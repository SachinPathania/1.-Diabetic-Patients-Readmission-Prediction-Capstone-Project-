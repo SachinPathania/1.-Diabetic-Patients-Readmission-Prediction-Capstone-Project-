{
 "cells": [
  {
   "cell_type": "markdown",
   "metadata": {},
   "source": [
    "# Import Libraries"
   ]
  },
  {
   "cell_type": "code",
   "execution_count": 1,
   "metadata": {},
   "outputs": [],
   "source": [
    "import numpy as np\n",
    "import pandas as pd\n",
    "import matplotlib.pyplot as plt\n",
    "import seaborn as sns\n",
    "from sklearn.model_selection import train_test_split,GridSearchCV,KFold,cross_val_score\n",
    "from sklearn.preprocessing import PowerTransformer, MinMaxScaler, StandardScaler\n",
    "from sklearn.pipeline import Pipeline\n",
    "import warnings\n",
    "warnings.filterwarnings('ignore')\n",
    "# display all columns of the dataframe\n",
    "pd.options.display.max_columns = None\n",
    "from sklearn.linear_model import LogisticRegression\n",
    "from sklearn.neighbors import KNeighborsClassifier\n",
    "from sklearn.tree import DecisionTreeClassifier\n",
    "from sklearn.ensemble import RandomForestClassifier,AdaBoostClassifier, GradientBoostingClassifier,StackingClassifier,BaggingClassifier\n",
    "from sklearn.metrics import roc_curve, classification_report, confusion_matrix\n",
    "from sklearn.metrics import recall_score, precision_score, f1_score, accuracy_score, roc_auc_score"
   ]
  },
  {
   "cell_type": "markdown",
   "metadata": {},
   "source": [
    "# Load Dataset - after part 2"
   ]
  },
  {
   "cell_type": "code",
   "execution_count": 2,
   "metadata": {},
   "outputs": [
    {
     "data": {
      "text/html": [
       "<div>\n",
       "<style scoped>\n",
       "    .dataframe tbody tr th:only-of-type {\n",
       "        vertical-align: middle;\n",
       "    }\n",
       "\n",
       "    .dataframe tbody tr th {\n",
       "        vertical-align: top;\n",
       "    }\n",
       "\n",
       "    .dataframe thead th {\n",
       "        text-align: right;\n",
       "    }\n",
       "</style>\n",
       "<table border=\"1\" class=\"dataframe\">\n",
       "  <thead>\n",
       "    <tr style=\"text-align: right;\">\n",
       "      <th></th>\n",
       "      <th>gender</th>\n",
       "      <th>age</th>\n",
       "      <th>admission_type_id</th>\n",
       "      <th>discharge_disposition_id</th>\n",
       "      <th>admission_source_id</th>\n",
       "      <th>time_in_hospital</th>\n",
       "      <th>num_lab_procedures</th>\n",
       "      <th>num_procedures</th>\n",
       "      <th>num_medications</th>\n",
       "      <th>diag_1</th>\n",
       "      <th>diag_2</th>\n",
       "      <th>diag_3</th>\n",
       "      <th>number_diagnoses</th>\n",
       "      <th>max_glu_serum</th>\n",
       "      <th>A1Cresult</th>\n",
       "      <th>metformin</th>\n",
       "      <th>glipizide</th>\n",
       "      <th>glyburide</th>\n",
       "      <th>insulin</th>\n",
       "      <th>change</th>\n",
       "      <th>diabetesMed</th>\n",
       "      <th>readmitted</th>\n",
       "      <th>service_utilization</th>\n",
       "      <th>Asian</th>\n",
       "      <th>Caucasian</th>\n",
       "      <th>Hispanic</th>\n",
       "      <th>Other</th>\n",
       "    </tr>\n",
       "  </thead>\n",
       "  <tbody>\n",
       "    <tr>\n",
       "      <th>0</th>\n",
       "      <td>0</td>\n",
       "      <td>15</td>\n",
       "      <td>0</td>\n",
       "      <td>0</td>\n",
       "      <td>0</td>\n",
       "      <td>3</td>\n",
       "      <td>59</td>\n",
       "      <td>0</td>\n",
       "      <td>18</td>\n",
       "      <td>8</td>\n",
       "      <td>0</td>\n",
       "      <td>8</td>\n",
       "      <td>9</td>\n",
       "      <td>0</td>\n",
       "      <td>0</td>\n",
       "      <td>0</td>\n",
       "      <td>0</td>\n",
       "      <td>0</td>\n",
       "      <td>1</td>\n",
       "      <td>1</td>\n",
       "      <td>1</td>\n",
       "      <td>0</td>\n",
       "      <td>0</td>\n",
       "      <td>0</td>\n",
       "      <td>1</td>\n",
       "      <td>0</td>\n",
       "      <td>0</td>\n",
       "    </tr>\n",
       "    <tr>\n",
       "      <th>1</th>\n",
       "      <td>0</td>\n",
       "      <td>25</td>\n",
       "      <td>0</td>\n",
       "      <td>0</td>\n",
       "      <td>0</td>\n",
       "      <td>2</td>\n",
       "      <td>11</td>\n",
       "      <td>5</td>\n",
       "      <td>13</td>\n",
       "      <td>8</td>\n",
       "      <td>0</td>\n",
       "      <td>8</td>\n",
       "      <td>6</td>\n",
       "      <td>0</td>\n",
       "      <td>0</td>\n",
       "      <td>0</td>\n",
       "      <td>0</td>\n",
       "      <td>0</td>\n",
       "      <td>0</td>\n",
       "      <td>0</td>\n",
       "      <td>1</td>\n",
       "      <td>0</td>\n",
       "      <td>3</td>\n",
       "      <td>0</td>\n",
       "      <td>0</td>\n",
       "      <td>0</td>\n",
       "      <td>0</td>\n",
       "    </tr>\n",
       "    <tr>\n",
       "      <th>2</th>\n",
       "      <td>1</td>\n",
       "      <td>35</td>\n",
       "      <td>0</td>\n",
       "      <td>0</td>\n",
       "      <td>0</td>\n",
       "      <td>2</td>\n",
       "      <td>44</td>\n",
       "      <td>1</td>\n",
       "      <td>16</td>\n",
       "      <td>8</td>\n",
       "      <td>0</td>\n",
       "      <td>1</td>\n",
       "      <td>7</td>\n",
       "      <td>0</td>\n",
       "      <td>0</td>\n",
       "      <td>0</td>\n",
       "      <td>0</td>\n",
       "      <td>0</td>\n",
       "      <td>1</td>\n",
       "      <td>1</td>\n",
       "      <td>1</td>\n",
       "      <td>0</td>\n",
       "      <td>0</td>\n",
       "      <td>0</td>\n",
       "      <td>1</td>\n",
       "      <td>0</td>\n",
       "      <td>0</td>\n",
       "    </tr>\n",
       "    <tr>\n",
       "      <th>3</th>\n",
       "      <td>1</td>\n",
       "      <td>45</td>\n",
       "      <td>0</td>\n",
       "      <td>0</td>\n",
       "      <td>0</td>\n",
       "      <td>1</td>\n",
       "      <td>51</td>\n",
       "      <td>0</td>\n",
       "      <td>8</td>\n",
       "      <td>7</td>\n",
       "      <td>7</td>\n",
       "      <td>0</td>\n",
       "      <td>5</td>\n",
       "      <td>0</td>\n",
       "      <td>0</td>\n",
       "      <td>0</td>\n",
       "      <td>0</td>\n",
       "      <td>0</td>\n",
       "      <td>0</td>\n",
       "      <td>1</td>\n",
       "      <td>1</td>\n",
       "      <td>0</td>\n",
       "      <td>0</td>\n",
       "      <td>0</td>\n",
       "      <td>1</td>\n",
       "      <td>0</td>\n",
       "      <td>0</td>\n",
       "    </tr>\n",
       "    <tr>\n",
       "      <th>4</th>\n",
       "      <td>1</td>\n",
       "      <td>55</td>\n",
       "      <td>0</td>\n",
       "      <td>0</td>\n",
       "      <td>1</td>\n",
       "      <td>3</td>\n",
       "      <td>31</td>\n",
       "      <td>6</td>\n",
       "      <td>16</td>\n",
       "      <td>1</td>\n",
       "      <td>1</td>\n",
       "      <td>0</td>\n",
       "      <td>9</td>\n",
       "      <td>0</td>\n",
       "      <td>0</td>\n",
       "      <td>0</td>\n",
       "      <td>0</td>\n",
       "      <td>0</td>\n",
       "      <td>0</td>\n",
       "      <td>0</td>\n",
       "      <td>1</td>\n",
       "      <td>0</td>\n",
       "      <td>0</td>\n",
       "      <td>0</td>\n",
       "      <td>1</td>\n",
       "      <td>0</td>\n",
       "      <td>0</td>\n",
       "    </tr>\n",
       "  </tbody>\n",
       "</table>\n",
       "</div>"
      ],
      "text/plain": [
       "   gender  age  admission_type_id  discharge_disposition_id  \\\n",
       "0       0   15                  0                         0   \n",
       "1       0   25                  0                         0   \n",
       "2       1   35                  0                         0   \n",
       "3       1   45                  0                         0   \n",
       "4       1   55                  0                         0   \n",
       "\n",
       "   admission_source_id  time_in_hospital  num_lab_procedures  num_procedures  \\\n",
       "0                    0                 3                  59               0   \n",
       "1                    0                 2                  11               5   \n",
       "2                    0                 2                  44               1   \n",
       "3                    0                 1                  51               0   \n",
       "4                    1                 3                  31               6   \n",
       "\n",
       "   num_medications  diag_1  diag_2  diag_3  number_diagnoses  max_glu_serum  \\\n",
       "0               18       8       0       8                 9              0   \n",
       "1               13       8       0       8                 6              0   \n",
       "2               16       8       0       1                 7              0   \n",
       "3                8       7       7       0                 5              0   \n",
       "4               16       1       1       0                 9              0   \n",
       "\n",
       "   A1Cresult  metformin  glipizide  glyburide  insulin  change  diabetesMed  \\\n",
       "0          0          0          0          0        1       1            1   \n",
       "1          0          0          0          0        0       0            1   \n",
       "2          0          0          0          0        1       1            1   \n",
       "3          0          0          0          0        0       1            1   \n",
       "4          0          0          0          0        0       0            1   \n",
       "\n",
       "   readmitted  service_utilization  Asian  Caucasian  Hispanic  Other  \n",
       "0           0                    0      0          1         0      0  \n",
       "1           0                    3      0          0         0      0  \n",
       "2           0                    0      0          1         0      0  \n",
       "3           0                    0      0          1         0      0  \n",
       "4           0                    0      0          1         0      0  "
      ]
     },
     "execution_count": 2,
     "metadata": {},
     "output_type": "execute_result"
    }
   ],
   "source": [
    "df=pd.read_csv(r'C:\\Users\\SACHIN\\Desktop\\CAPSTONE PROJECT\\Official Capstone diabetes Project\\Data set CSV\\dataset_diabetes UCI\\Diabetes_preprocessing_2.csv')\n",
    "df.head()"
   ]
  },
  {
   "cell_type": "code",
   "execution_count": 3,
   "metadata": {},
   "outputs": [
    {
     "data": {
      "text/plain": [
       "(97805, 27)"
      ]
     },
     "execution_count": 3,
     "metadata": {},
     "output_type": "execute_result"
    }
   ],
   "source": [
    "df.shape"
   ]
  },
  {
   "cell_type": "code",
   "execution_count": 4,
   "metadata": {},
   "outputs": [
    {
     "name": "stdout",
     "output_type": "stream",
     "text": [
      "<class 'pandas.core.frame.DataFrame'>\n",
      "RangeIndex: 97805 entries, 0 to 97804\n",
      "Data columns (total 27 columns):\n",
      " #   Column                    Non-Null Count  Dtype\n",
      "---  ------                    --------------  -----\n",
      " 0   gender                    97805 non-null  int64\n",
      " 1   age                       97805 non-null  int64\n",
      " 2   admission_type_id         97805 non-null  int64\n",
      " 3   discharge_disposition_id  97805 non-null  int64\n",
      " 4   admission_source_id       97805 non-null  int64\n",
      " 5   time_in_hospital          97805 non-null  int64\n",
      " 6   num_lab_procedures        97805 non-null  int64\n",
      " 7   num_procedures            97805 non-null  int64\n",
      " 8   num_medications           97805 non-null  int64\n",
      " 9   diag_1                    97805 non-null  int64\n",
      " 10  diag_2                    97805 non-null  int64\n",
      " 11  diag_3                    97805 non-null  int64\n",
      " 12  number_diagnoses          97805 non-null  int64\n",
      " 13  max_glu_serum             97805 non-null  int64\n",
      " 14  A1Cresult                 97805 non-null  int64\n",
      " 15  metformin                 97805 non-null  int64\n",
      " 16  glipizide                 97805 non-null  int64\n",
      " 17  glyburide                 97805 non-null  int64\n",
      " 18  insulin                   97805 non-null  int64\n",
      " 19  change                    97805 non-null  int64\n",
      " 20  diabetesMed               97805 non-null  int64\n",
      " 21  readmitted                97805 non-null  int64\n",
      " 22  service_utilization       97805 non-null  int64\n",
      " 23  Asian                     97805 non-null  int64\n",
      " 24  Caucasian                 97805 non-null  int64\n",
      " 25  Hispanic                  97805 non-null  int64\n",
      " 26  Other                     97805 non-null  int64\n",
      "dtypes: int64(27)\n",
      "memory usage: 20.1 MB\n"
     ]
    }
   ],
   "source": [
    "df.info()"
   ]
  },
  {
   "cell_type": "markdown",
   "metadata": {},
   "source": [
    "# Split the data"
   ]
  },
  {
   "cell_type": "code",
   "execution_count": 6,
   "metadata": {},
   "outputs": [
    {
     "data": {
      "text/plain": [
       "0    86599\n",
       "1    11206\n",
       "Name: readmitted, dtype: int64"
      ]
     },
     "execution_count": 6,
     "metadata": {},
     "output_type": "execute_result"
    }
   ],
   "source": [
    "df['readmitted'].value_counts()"
   ]
  },
  {
   "cell_type": "code",
   "execution_count": 7,
   "metadata": {},
   "outputs": [],
   "source": [
    "# 0 : >30\n",
    "# 1 : <30"
   ]
  },
  {
   "cell_type": "code",
   "execution_count": 11,
   "metadata": {},
   "outputs": [
    {
     "data": {
      "image/png": "[encoded data removed]",
      "text/plain": [
       "<Figure size 432x288 with 1 Axes>"
      ]
     },
     "metadata": {
      "needs_background": "light"
     },
     "output_type": "display_data"
    }
   ],
   "source": [
    "sns.countplot(df['readmitted']) #imbalanced data\n",
    "plt.show()"
   ]
  },
  {
   "cell_type": "code",
   "execution_count": 5,
   "metadata": {},
   "outputs": [],
   "source": [
    "X = df.drop('readmitted',axis=1)\n",
    "y = df['readmitted']\n",
    "X_train, X_test, y_train, y_test = train_test_split(X, y, test_size = 0.3, random_state = 8)"
   ]
  },
  {
   "cell_type": "code",
   "execution_count": 12,
   "metadata": {},
   "outputs": [
    {
     "name": "stdout",
     "output_type": "stream",
     "text": [
      "(68463, 26) (29342, 26) (68463,) (29342,)\n"
     ]
    }
   ],
   "source": [
    "print(X_train.shape, X_test.shape, y_train.shape, y_test.shape)"
   ]
  },
  {
   "cell_type": "markdown",
   "metadata": {},
   "source": [
    "# 1.Logistic Regression"
   ]
  },
  {
   "cell_type": "markdown",
   "metadata": {},
   "source": [
    "## a.With imbalance target"
   ]
  },
  {
   "cell_type": "code",
   "execution_count": 6,
   "metadata": {},
   "outputs": [
    {
     "name": "stdout",
     "output_type": "stream",
     "text": [
      "Training Accuracy: \n",
      "0.8854271650380497\n",
      "Testing Accuracy: \n",
      "0.882864153772749\n"
     ]
    }
   ],
   "source": [
    "lr = LogisticRegression()  #without scaling\n",
    "lr.fit(X_train,y_train)\n",
    "print('Training Accuracy: ')\n",
    "print(lr.score(X_train,y_train))\n",
    "print('Testing Accuracy: ')\n",
    "print(lr.score(X_test,y_test))"
   ]
  },
  {
   "cell_type": "code",
   "execution_count": 7,
   "metadata": {},
   "outputs": [
    {
     "name": "stdout",
     "output_type": "stream",
     "text": [
      "Training Accuracy:\n",
      "0.8860698479470663\n",
      "Testing Accuracy:\n",
      "0.8839206598050576\n",
      "confusion matrix test set: \n",
      " [[25936     0]\n",
      " [ 3406     0]]\n",
      "confusion matrix train set: \n",
      " [[60663     0]\n",
      " [ 7800     0]]\n",
      "Cross validation score:  0.8860698478012237\n",
      "precision 0.0\n",
      "recall 0.0\n",
      "f1_score 0.0\n",
      "roc_auc_score test set:  0.5\n",
      "precision 0.0\n",
      "recall 0.0\n",
      "f1_score 0.0\n",
      "roc_auc_score train set:  0.5\n"
     ]
    }
   ],
   "source": [
    "pt = PowerTransformer() #with scaling\n",
    "powertrain = pt.fit_transform(X_train)\n",
    "powertest = pt.transform(X_test)\n",
    "lr = LogisticRegression()\n",
    "lr.fit(powertrain,y_train)\n",
    "print('Training Accuracy:')\n",
    "print(lr.score(powertrain,y_train))\n",
    "print('Testing Accuracy:')\n",
    "print(lr.score(powertest,y_test))\n",
    "y_testpred=lr.predict(powertest)\n",
    "print('confusion matrix test set: \\n',confusion_matrix(y_test,y_testpred))\n",
    "y_trainpred=lr.predict(powertrain)\n",
    "print('confusion matrix train set: \\n',confusion_matrix(y_train,y_trainpred))\n",
    "scores=cross_val_score(estimator=lr,X=powertrain,y=y_train,scoring='accuracy',cv=5)\n",
    "print('Cross validation score: ',np.mean(scores))\n",
    "print('precision',precision_score(y_test,y_testpred))\n",
    "print('recall',recall_score(y_test,y_testpred))\n",
    "print('f1_score',f1_score(y_test,y_testpred))\n",
    "print('roc_auc_score test set: ',roc_auc_score(y_test,y_testpred))\n",
    "print('precision',precision_score(y_train,y_trainpred))\n",
    "print('recall',recall_score(y_train,y_trainpred))\n",
    "print('f1_score',f1_score(y_train,y_trainpred))\n",
    "print('roc_auc_score train set: ',roc_auc_score(y_train,y_trainpred))"
   ]
  },
  {
   "cell_type": "markdown",
   "metadata": {},
   "source": [
    "## Create a generalized function to calculate the metrics for the train and the test set."
   ]
  },
  {
   "cell_type": "code",
   "execution_count": 8,
   "metadata": {},
   "outputs": [],
   "source": [
    "# create a generalized function to calculate the metrics values for train set\n",
    "def get_train_report(model):\n",
    "    train_pred = model.predict(powertrain)\n",
    "    return(classification_report(y_train, train_pred))"
   ]
  },
  {
   "cell_type": "code",
   "execution_count": 9,
   "metadata": {},
   "outputs": [],
   "source": [
    "# create a generalized function to calculate the metrics values for test set\n",
    "def get_test_report(model):\n",
    "    test_pred = model.predict(powertest)\n",
    "    return(classification_report(y_test, test_pred))"
   ]
  },
  {
   "cell_type": "code",
   "execution_count": 10,
   "metadata": {},
   "outputs": [
    {
     "name": "stdout",
     "output_type": "stream",
     "text": [
      "Train data:\n",
      "               precision    recall  f1-score   support\n",
      "\n",
      "           0       0.89      1.00      0.94     60663\n",
      "           1       0.00      0.00      0.00      7800\n",
      "\n",
      "    accuracy                           0.89     68463\n",
      "   macro avg       0.44      0.50      0.47     68463\n",
      "weighted avg       0.79      0.89      0.83     68463\n",
      "\n",
      "Test data:\n",
      "               precision    recall  f1-score   support\n",
      "\n",
      "           0       0.88      1.00      0.94     25936\n",
      "           1       0.00      0.00      0.00      3406\n",
      "\n",
      "    accuracy                           0.88     29342\n",
      "   macro avg       0.44      0.50      0.47     29342\n",
      "weighted avg       0.78      0.88      0.83     29342\n",
      "\n"
     ]
    }
   ],
   "source": [
    "train_report = get_train_report(lr)\n",
    "test_report = get_test_report(lr)\n",
    "print('Train data:\\n',train_report)\n",
    "print('Test data:\\n',test_report)"
   ]
  },
  {
   "cell_type": "markdown",
   "metadata": {},
   "source": [
    "## b.With balanced target (class weight)"
   ]
  },
  {
   "cell_type": "code",
   "execution_count": 11,
   "metadata": {},
   "outputs": [
    {
     "name": "stdout",
     "output_type": "stream",
     "text": [
      "Training Accuracy:\n",
      "0.5946715744270628\n",
      "Testing Accuracy:\n",
      "0.5898370935859859\n",
      "confusion matrix test set: \n",
      " [[15217 10719]\n",
      " [ 1316  2090]]\n",
      "confusion matrix train set: \n",
      " [[35949 24714]\n",
      " [ 3036  4764]]\n",
      "Cross validation score:  0.594029017515448\n",
      "precision 0.16316652353813724\n",
      "recall 0.6136230182031709\n",
      "f1_score 0.2577860006167129\n",
      "roc_auc_score test set:  0.6001682333458791\n",
      "precision 0.16161204966415632\n",
      "recall 0.6107692307692307\n",
      "f1_score 0.255593111218413\n",
      "roc_auc_score train set:  0.6016854907122451\n"
     ]
    }
   ],
   "source": [
    "pt = PowerTransformer()\n",
    "powertrain = pt.fit_transform(X_train)\n",
    "powertest = pt.transform(X_test)\n",
    "logit = LogisticRegression(class_weight='balanced')\n",
    "logit.fit(powertrain,y_train)\n",
    "print('Training Accuracy:')\n",
    "print(logit.score(powertrain,y_train))\n",
    "print('Testing Accuracy:')\n",
    "print(logit.score(powertest,y_test))\n",
    "y_testpred=logit.predict(powertest)\n",
    "print('confusion matrix test set: \\n',confusion_matrix(y_test,y_testpred))\n",
    "y_trainpred=logit.predict(powertrain)\n",
    "print('confusion matrix train set: \\n',confusion_matrix(y_train,y_trainpred))\n",
    "scores=cross_val_score(estimator=logit,X=powertrain,y=y_train,scoring='accuracy',cv=5)\n",
    "print('Cross validation score: ',np.mean(scores))\n",
    "print('precision',precision_score(y_test,y_testpred))\n",
    "print('recall',recall_score(y_test,y_testpred))\n",
    "print('f1_score',f1_score(y_test,y_testpred))\n",
    "print('roc_auc_score test set: ',roc_auc_score(y_test,y_testpred))\n",
    "print('precision',precision_score(y_train,y_trainpred))\n",
    "print('recall',recall_score(y_train,y_trainpred))\n",
    "print('f1_score',f1_score(y_train,y_trainpred))\n",
    "print('roc_auc_score train set: ',roc_auc_score(y_train,y_trainpred))"
   ]
  },
  {
   "cell_type": "code",
   "execution_count": 12,
   "metadata": {},
   "outputs": [
    {
     "name": "stdout",
     "output_type": "stream",
     "text": [
      "Train data:\n",
      "               precision    recall  f1-score   support\n",
      "\n",
      "           0       0.92      0.59      0.72     60663\n",
      "           1       0.16      0.61      0.26      7800\n",
      "\n",
      "    accuracy                           0.59     68463\n",
      "   macro avg       0.54      0.60      0.49     68463\n",
      "weighted avg       0.84      0.59      0.67     68463\n",
      "\n",
      "Test data:\n",
      "               precision    recall  f1-score   support\n",
      "\n",
      "           0       0.92      0.59      0.72     25936\n",
      "           1       0.16      0.61      0.26      3406\n",
      "\n",
      "    accuracy                           0.59     29342\n",
      "   macro avg       0.54      0.60      0.49     29342\n",
      "weighted avg       0.83      0.59      0.66     29342\n",
      "\n"
     ]
    }
   ],
   "source": [
    "train_report = get_train_report(logit)\n",
    "test_report = get_test_report(logit)\n",
    "print('Train data:\\n',train_report)\n",
    "print('Test data:\\n',test_report)"
   ]
  },
  {
   "cell_type": "markdown",
   "metadata": {},
   "source": [
    "# 2. Decision Tree Classifier"
   ]
  },
  {
   "cell_type": "code",
   "execution_count": null,
   "metadata": {},
   "outputs": [],
   "source": []
  }
 ],
 "metadata": {
  "kernelspec": {
   "display_name": "Python 3",
   "language": "python",
   "name": "python3"
  },
  "language_info": {
   "codemirror_mode": {
    "name": "ipython",
    "version": 3
   },
   "file_extension": ".py",
   "mimetype": "text/x-python",
   "name": "python",
   "nbconvert_exporter": "python",
   "pygments_lexer": "ipython3",
   "version": "3.7.6"
  }
 },
 "nbformat": 4,
 "nbformat_minor": 4
}
