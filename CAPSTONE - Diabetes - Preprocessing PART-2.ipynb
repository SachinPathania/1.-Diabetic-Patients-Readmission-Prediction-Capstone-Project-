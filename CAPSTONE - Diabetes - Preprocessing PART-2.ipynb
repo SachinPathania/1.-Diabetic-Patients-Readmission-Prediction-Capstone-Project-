{
 "cells": [
  {
   "cell_type": "markdown",
   "metadata": {},
   "source": [
    "# Import Libraries"
   ]
  },
  {
   "cell_type": "code",
   "execution_count": 1,
   "metadata": {},
   "outputs": [],
   "source": [
    "import pandas as pd\n",
    "import numpy as np\n",
    "import warnings\n",
    "warnings.filterwarnings('ignore')\n",
    "# display all columns of the dataframe\n",
    "pd.options.display.max_columns = None"
   ]
  },
  {
   "cell_type": "markdown",
   "metadata": {},
   "source": [
    "# Load Dataset - after part 1"
   ]
  },
  {
   "cell_type": "code",
   "execution_count": 2,
   "metadata": {},
   "outputs": [
    {
     "data": {
      "text/html": [
       "<div>\n",
       "<style scoped>\n",
       "    .dataframe tbody tr th:only-of-type {\n",
       "        vertical-align: middle;\n",
       "    }\n",
       "\n",
       "    .dataframe tbody tr th {\n",
       "        vertical-align: top;\n",
       "    }\n",
       "\n",
       "    .dataframe thead th {\n",
       "        text-align: right;\n",
       "    }\n",
       "</style>\n",
       "<table border=\"1\" class=\"dataframe\">\n",
       "  <thead>\n",
       "    <tr style=\"text-align: right;\">\n",
       "      <th></th>\n",
       "      <th>gender</th>\n",
       "      <th>age</th>\n",
       "      <th>admission_type_id</th>\n",
       "      <th>discharge_disposition_id</th>\n",
       "      <th>admission_source_id</th>\n",
       "      <th>time_in_hospital</th>\n",
       "      <th>num_lab_procedures</th>\n",
       "      <th>num_procedures</th>\n",
       "      <th>num_medications</th>\n",
       "      <th>diag_1</th>\n",
       "      <th>diag_2</th>\n",
       "      <th>diag_3</th>\n",
       "      <th>number_diagnoses</th>\n",
       "      <th>max_glu_serum</th>\n",
       "      <th>A1Cresult</th>\n",
       "      <th>metformin</th>\n",
       "      <th>glipizide</th>\n",
       "      <th>glyburide</th>\n",
       "      <th>insulin</th>\n",
       "      <th>change</th>\n",
       "      <th>diabetesMed</th>\n",
       "      <th>readmitted</th>\n",
       "      <th>service_utilization</th>\n",
       "      <th>Asian</th>\n",
       "      <th>Caucasian</th>\n",
       "      <th>Hispanic</th>\n",
       "      <th>Other</th>\n",
       "    </tr>\n",
       "  </thead>\n",
       "  <tbody>\n",
       "    <tr>\n",
       "      <th>0</th>\n",
       "      <td>0</td>\n",
       "      <td>15</td>\n",
       "      <td>Emergency</td>\n",
       "      <td>Discharged to home</td>\n",
       "      <td>Emergency</td>\n",
       "      <td>3</td>\n",
       "      <td>59</td>\n",
       "      <td>0</td>\n",
       "      <td>18</td>\n",
       "      <td>276</td>\n",
       "      <td>250.01</td>\n",
       "      <td>255</td>\n",
       "      <td>9</td>\n",
       "      <td>0</td>\n",
       "      <td>0</td>\n",
       "      <td>0</td>\n",
       "      <td>0</td>\n",
       "      <td>0</td>\n",
       "      <td>1</td>\n",
       "      <td>1</td>\n",
       "      <td>1</td>\n",
       "      <td>0</td>\n",
       "      <td>0</td>\n",
       "      <td>0</td>\n",
       "      <td>1</td>\n",
       "      <td>0</td>\n",
       "      <td>0</td>\n",
       "    </tr>\n",
       "    <tr>\n",
       "      <th>1</th>\n",
       "      <td>0</td>\n",
       "      <td>25</td>\n",
       "      <td>Emergency</td>\n",
       "      <td>Discharged to home</td>\n",
       "      <td>Emergency</td>\n",
       "      <td>2</td>\n",
       "      <td>11</td>\n",
       "      <td>5</td>\n",
       "      <td>13</td>\n",
       "      <td>648</td>\n",
       "      <td>250</td>\n",
       "      <td>V27</td>\n",
       "      <td>6</td>\n",
       "      <td>0</td>\n",
       "      <td>0</td>\n",
       "      <td>0</td>\n",
       "      <td>0</td>\n",
       "      <td>0</td>\n",
       "      <td>0</td>\n",
       "      <td>0</td>\n",
       "      <td>1</td>\n",
       "      <td>0</td>\n",
       "      <td>3</td>\n",
       "      <td>0</td>\n",
       "      <td>0</td>\n",
       "      <td>0</td>\n",
       "      <td>0</td>\n",
       "    </tr>\n",
       "    <tr>\n",
       "      <th>2</th>\n",
       "      <td>1</td>\n",
       "      <td>35</td>\n",
       "      <td>Emergency</td>\n",
       "      <td>Discharged to home</td>\n",
       "      <td>Emergency</td>\n",
       "      <td>2</td>\n",
       "      <td>44</td>\n",
       "      <td>1</td>\n",
       "      <td>16</td>\n",
       "      <td>8</td>\n",
       "      <td>250.43</td>\n",
       "      <td>403</td>\n",
       "      <td>7</td>\n",
       "      <td>0</td>\n",
       "      <td>0</td>\n",
       "      <td>0</td>\n",
       "      <td>0</td>\n",
       "      <td>0</td>\n",
       "      <td>1</td>\n",
       "      <td>1</td>\n",
       "      <td>1</td>\n",
       "      <td>0</td>\n",
       "      <td>0</td>\n",
       "      <td>0</td>\n",
       "      <td>1</td>\n",
       "      <td>0</td>\n",
       "      <td>0</td>\n",
       "    </tr>\n",
       "    <tr>\n",
       "      <th>3</th>\n",
       "      <td>1</td>\n",
       "      <td>45</td>\n",
       "      <td>Emergency</td>\n",
       "      <td>Discharged to home</td>\n",
       "      <td>Emergency</td>\n",
       "      <td>1</td>\n",
       "      <td>51</td>\n",
       "      <td>0</td>\n",
       "      <td>8</td>\n",
       "      <td>197</td>\n",
       "      <td>157</td>\n",
       "      <td>250</td>\n",
       "      <td>5</td>\n",
       "      <td>0</td>\n",
       "      <td>0</td>\n",
       "      <td>0</td>\n",
       "      <td>0</td>\n",
       "      <td>0</td>\n",
       "      <td>0</td>\n",
       "      <td>1</td>\n",
       "      <td>1</td>\n",
       "      <td>0</td>\n",
       "      <td>0</td>\n",
       "      <td>0</td>\n",
       "      <td>1</td>\n",
       "      <td>0</td>\n",
       "      <td>0</td>\n",
       "    </tr>\n",
       "    <tr>\n",
       "      <th>4</th>\n",
       "      <td>1</td>\n",
       "      <td>55</td>\n",
       "      <td>Emergency</td>\n",
       "      <td>Discharged to home</td>\n",
       "      <td>Referral</td>\n",
       "      <td>3</td>\n",
       "      <td>31</td>\n",
       "      <td>6</td>\n",
       "      <td>16</td>\n",
       "      <td>414</td>\n",
       "      <td>411</td>\n",
       "      <td>250</td>\n",
       "      <td>9</td>\n",
       "      <td>0</td>\n",
       "      <td>0</td>\n",
       "      <td>0</td>\n",
       "      <td>0</td>\n",
       "      <td>0</td>\n",
       "      <td>0</td>\n",
       "      <td>0</td>\n",
       "      <td>1</td>\n",
       "      <td>0</td>\n",
       "      <td>0</td>\n",
       "      <td>0</td>\n",
       "      <td>1</td>\n",
       "      <td>0</td>\n",
       "      <td>0</td>\n",
       "    </tr>\n",
       "  </tbody>\n",
       "</table>\n",
       "</div>"
      ],
      "text/plain": [
       "   gender  age admission_type_id discharge_disposition_id admission_source_id  \\\n",
       "0       0   15         Emergency       Discharged to home           Emergency   \n",
       "1       0   25         Emergency       Discharged to home           Emergency   \n",
       "2       1   35         Emergency       Discharged to home           Emergency   \n",
       "3       1   45         Emergency       Discharged to home           Emergency   \n",
       "4       1   55         Emergency       Discharged to home            Referral   \n",
       "\n",
       "   time_in_hospital  num_lab_procedures  num_procedures  num_medications  \\\n",
       "0                 3                  59               0               18   \n",
       "1                 2                  11               5               13   \n",
       "2                 2                  44               1               16   \n",
       "3                 1                  51               0                8   \n",
       "4                 3                  31               6               16   \n",
       "\n",
       "  diag_1  diag_2 diag_3  number_diagnoses  max_glu_serum  A1Cresult  \\\n",
       "0    276  250.01    255                 9              0          0   \n",
       "1    648     250    V27                 6              0          0   \n",
       "2      8  250.43    403                 7              0          0   \n",
       "3    197     157    250                 5              0          0   \n",
       "4    414     411    250                 9              0          0   \n",
       "\n",
       "   metformin  glipizide  glyburide  insulin  change  diabetesMed  readmitted  \\\n",
       "0          0          0          0        1       1            1           0   \n",
       "1          0          0          0        0       0            1           0   \n",
       "2          0          0          0        1       1            1           0   \n",
       "3          0          0          0        0       1            1           0   \n",
       "4          0          0          0        0       0            1           0   \n",
       "\n",
       "   service_utilization  Asian  Caucasian  Hispanic  Other  \n",
       "0                    0      0          1         0      0  \n",
       "1                    3      0          0         0      0  \n",
       "2                    0      0          1         0      0  \n",
       "3                    0      0          1         0      0  \n",
       "4                    0      0          1         0      0  "
      ]
     },
     "execution_count": 2,
     "metadata": {},
     "output_type": "execute_result"
    }
   ],
   "source": [
    "df=pd.read_csv(r'C:\\Users\\SACHIN\\Desktop\\CAPSTONE PROJECT\\Official Capstone diabetes Project\\Data set CSV\\dataset_diabetes UCI\\Diabetes_preprocessing_1.csv')\n",
    "df.head()"
   ]
  },
  {
   "cell_type": "code",
   "execution_count": 3,
   "metadata": {},
   "outputs": [
    {
     "data": {
      "text/plain": [
       "(97805, 27)"
      ]
     },
     "execution_count": 3,
     "metadata": {},
     "output_type": "execute_result"
    }
   ],
   "source": [
    "df.shape"
   ]
  },
  {
   "cell_type": "code",
   "execution_count": 4,
   "metadata": {},
   "outputs": [
    {
     "name": "stdout",
     "output_type": "stream",
     "text": [
      "<class 'pandas.core.frame.DataFrame'>\n",
      "RangeIndex: 97805 entries, 0 to 97804\n",
      "Data columns (total 27 columns):\n",
      " #   Column                    Non-Null Count  Dtype \n",
      "---  ------                    --------------  ----- \n",
      " 0   gender                    97805 non-null  int64 \n",
      " 1   age                       97805 non-null  int64 \n",
      " 2   admission_type_id         97805 non-null  object\n",
      " 3   discharge_disposition_id  97805 non-null  object\n",
      " 4   admission_source_id       97805 non-null  object\n",
      " 5   time_in_hospital          97805 non-null  int64 \n",
      " 6   num_lab_procedures        97805 non-null  int64 \n",
      " 7   num_procedures            97805 non-null  int64 \n",
      " 8   num_medications           97805 non-null  int64 \n",
      " 9   diag_1                    97805 non-null  object\n",
      " 10  diag_2                    97805 non-null  object\n",
      " 11  diag_3                    97805 non-null  object\n",
      " 12  number_diagnoses          97805 non-null  int64 \n",
      " 13  max_glu_serum             97805 non-null  int64 \n",
      " 14  A1Cresult                 97805 non-null  int64 \n",
      " 15  metformin                 97805 non-null  int64 \n",
      " 16  glipizide                 97805 non-null  int64 \n",
      " 17  glyburide                 97805 non-null  int64 \n",
      " 18  insulin                   97805 non-null  int64 \n",
      " 19  change                    97805 non-null  int64 \n",
      " 20  diabetesMed               97805 non-null  int64 \n",
      " 21  readmitted                97805 non-null  int64 \n",
      " 22  service_utilization       97805 non-null  int64 \n",
      " 23  Asian                     97805 non-null  int64 \n",
      " 24  Caucasian                 97805 non-null  int64 \n",
      " 25  Hispanic                  97805 non-null  int64 \n",
      " 26  Other                     97805 non-null  int64 \n",
      "dtypes: int64(21), object(6)\n",
      "memory usage: 20.1+ MB\n"
     ]
    }
   ],
   "source": [
    "df.info()"
   ]
  },
  {
   "cell_type": "markdown",
   "metadata": {},
   "source": [
    "# Encoding\n"
   ]
  },
  {
   "cell_type": "markdown",
   "metadata": {},
   "source": [
    "1. admission_type_id :"
   ]
  },
  {
   "cell_type": "code",
   "execution_count": 5,
   "metadata": {},
   "outputs": [
    {
     "data": {
      "text/plain": [
       "Emergency        69486\n",
       "Elective         18344\n",
       "Not Available     9975\n",
       "Name: admission_type_id, dtype: int64"
      ]
     },
     "execution_count": 5,
     "metadata": {},
     "output_type": "execute_result"
    }
   ],
   "source": [
    "df['admission_type_id'].value_counts()"
   ]
  },
  {
   "cell_type": "code",
   "execution_count": 6,
   "metadata": {},
   "outputs": [
    {
     "data": {
      "text/plain": [
       "array(['Emergency', 'Elective', 'Not Available'], dtype=object)"
      ]
     },
     "execution_count": 6,
     "metadata": {},
     "output_type": "execute_result"
    }
   ],
   "source": [
    "df['admission_type_id'].unique()"
   ]
  },
  {
   "cell_type": "code",
   "execution_count": 7,
   "metadata": {},
   "outputs": [],
   "source": [
    "df['admission_type_id']=df['admission_type_id'].replace({'Emergency':0,'Elective':1,'Not Available':2})"
   ]
  },
  {
   "cell_type": "markdown",
   "metadata": {},
   "source": [
    "2. discharge_disposition_id"
   ]
  },
  {
   "cell_type": "code",
   "execution_count": 8,
   "metadata": {},
   "outputs": [
    {
     "data": {
      "text/plain": [
       "Discharged to home                            71928\n",
       "Transferred to another facility               20574\n",
       "Not Available                                  4598\n",
       "Left AMA                                        604\n",
       "Still patient/referred to this institution      101\n",
       "Name: discharge_disposition_id, dtype: int64"
      ]
     },
     "execution_count": 8,
     "metadata": {},
     "output_type": "execute_result"
    }
   ],
   "source": [
    "df['discharge_disposition_id'].value_counts()"
   ]
  },
  {
   "cell_type": "code",
   "execution_count": 9,
   "metadata": {},
   "outputs": [
    {
     "data": {
      "text/plain": [
       "array(['Discharged to home', 'Transferred to another facility',\n",
       "       'Left AMA', 'Not Available',\n",
       "       'Still patient/referred to this institution'], dtype=object)"
      ]
     },
     "execution_count": 9,
     "metadata": {},
     "output_type": "execute_result"
    }
   ],
   "source": [
    "df['discharge_disposition_id'].unique()"
   ]
  },
  {
   "cell_type": "code",
   "execution_count": 10,
   "metadata": {},
   "outputs": [],
   "source": [
    "df['discharge_disposition_id']=df['discharge_disposition_id'].replace({'Discharged to home':0,'Transferred to another facility':1,\n",
    "                                                                       'Not Available':2,'Left AMA':3,\n",
    "                                                                       'Still patient/referred to this institution':4})"
   ]
  },
  {
   "cell_type": "code",
   "execution_count": 11,
   "metadata": {},
   "outputs": [
    {
     "data": {
      "text/plain": [
       "0    71928\n",
       "1    20574\n",
       "2     4598\n",
       "3      604\n",
       "4      101\n",
       "Name: discharge_disposition_id, dtype: int64"
      ]
     },
     "execution_count": 11,
     "metadata": {},
     "output_type": "execute_result"
    }
   ],
   "source": [
    "df['discharge_disposition_id'].value_counts()"
   ]
  },
  {
   "cell_type": "markdown",
   "metadata": {},
   "source": [
    "3. admission_source_id"
   ]
  },
  {
   "cell_type": "code",
   "execution_count": 12,
   "metadata": {},
   "outputs": [
    {
     "data": {
      "text/plain": [
       "Emergency                    55166\n",
       "Referral                     29881\n",
       "Not Available                 6743\n",
       "Transferred from hospital     6015\n",
       "Name: admission_source_id, dtype: int64"
      ]
     },
     "execution_count": 12,
     "metadata": {},
     "output_type": "execute_result"
    }
   ],
   "source": [
    "df['admission_source_id'].value_counts()"
   ]
  },
  {
   "cell_type": "code",
   "execution_count": 13,
   "metadata": {},
   "outputs": [],
   "source": [
    "df['admission_source_id']=df['admission_source_id'].replace({'Emergency':0,'Referral':1,\n",
    "                                                             'Not Available':2,'Transferred from hospital':3})"
   ]
  },
  {
   "cell_type": "code",
   "execution_count": 14,
   "metadata": {},
   "outputs": [
    {
     "data": {
      "text/plain": [
       "0    55166\n",
       "1    29881\n",
       "2     6743\n",
       "3     6015\n",
       "Name: admission_source_id, dtype: int64"
      ]
     },
     "execution_count": 14,
     "metadata": {},
     "output_type": "execute_result"
    }
   ],
   "source": [
    "df['admission_source_id'].value_counts()"
   ]
  },
  {
   "cell_type": "code",
   "execution_count": 15,
   "metadata": {},
   "outputs": [
    {
     "data": {
      "text/html": [
       "<div>\n",
       "<style scoped>\n",
       "    .dataframe tbody tr th:only-of-type {\n",
       "        vertical-align: middle;\n",
       "    }\n",
       "\n",
       "    .dataframe tbody tr th {\n",
       "        vertical-align: top;\n",
       "    }\n",
       "\n",
       "    .dataframe thead th {\n",
       "        text-align: right;\n",
       "    }\n",
       "</style>\n",
       "<table border=\"1\" class=\"dataframe\">\n",
       "  <thead>\n",
       "    <tr style=\"text-align: right;\">\n",
       "      <th></th>\n",
       "      <th>gender</th>\n",
       "      <th>age</th>\n",
       "      <th>admission_type_id</th>\n",
       "      <th>discharge_disposition_id</th>\n",
       "      <th>admission_source_id</th>\n",
       "      <th>time_in_hospital</th>\n",
       "      <th>num_lab_procedures</th>\n",
       "      <th>num_procedures</th>\n",
       "      <th>num_medications</th>\n",
       "      <th>diag_1</th>\n",
       "      <th>diag_2</th>\n",
       "      <th>diag_3</th>\n",
       "      <th>number_diagnoses</th>\n",
       "      <th>max_glu_serum</th>\n",
       "      <th>A1Cresult</th>\n",
       "      <th>metformin</th>\n",
       "      <th>glipizide</th>\n",
       "      <th>glyburide</th>\n",
       "      <th>insulin</th>\n",
       "      <th>change</th>\n",
       "      <th>diabetesMed</th>\n",
       "      <th>readmitted</th>\n",
       "      <th>service_utilization</th>\n",
       "      <th>Asian</th>\n",
       "      <th>Caucasian</th>\n",
       "      <th>Hispanic</th>\n",
       "      <th>Other</th>\n",
       "    </tr>\n",
       "  </thead>\n",
       "  <tbody>\n",
       "    <tr>\n",
       "      <th>0</th>\n",
       "      <td>0</td>\n",
       "      <td>15</td>\n",
       "      <td>0</td>\n",
       "      <td>0</td>\n",
       "      <td>0</td>\n",
       "      <td>3</td>\n",
       "      <td>59</td>\n",
       "      <td>0</td>\n",
       "      <td>18</td>\n",
       "      <td>276</td>\n",
       "      <td>250.01</td>\n",
       "      <td>255</td>\n",
       "      <td>9</td>\n",
       "      <td>0</td>\n",
       "      <td>0</td>\n",
       "      <td>0</td>\n",
       "      <td>0</td>\n",
       "      <td>0</td>\n",
       "      <td>1</td>\n",
       "      <td>1</td>\n",
       "      <td>1</td>\n",
       "      <td>0</td>\n",
       "      <td>0</td>\n",
       "      <td>0</td>\n",
       "      <td>1</td>\n",
       "      <td>0</td>\n",
       "      <td>0</td>\n",
       "    </tr>\n",
       "    <tr>\n",
       "      <th>1</th>\n",
       "      <td>0</td>\n",
       "      <td>25</td>\n",
       "      <td>0</td>\n",
       "      <td>0</td>\n",
       "      <td>0</td>\n",
       "      <td>2</td>\n",
       "      <td>11</td>\n",
       "      <td>5</td>\n",
       "      <td>13</td>\n",
       "      <td>648</td>\n",
       "      <td>250</td>\n",
       "      <td>V27</td>\n",
       "      <td>6</td>\n",
       "      <td>0</td>\n",
       "      <td>0</td>\n",
       "      <td>0</td>\n",
       "      <td>0</td>\n",
       "      <td>0</td>\n",
       "      <td>0</td>\n",
       "      <td>0</td>\n",
       "      <td>1</td>\n",
       "      <td>0</td>\n",
       "      <td>3</td>\n",
       "      <td>0</td>\n",
       "      <td>0</td>\n",
       "      <td>0</td>\n",
       "      <td>0</td>\n",
       "    </tr>\n",
       "    <tr>\n",
       "      <th>2</th>\n",
       "      <td>1</td>\n",
       "      <td>35</td>\n",
       "      <td>0</td>\n",
       "      <td>0</td>\n",
       "      <td>0</td>\n",
       "      <td>2</td>\n",
       "      <td>44</td>\n",
       "      <td>1</td>\n",
       "      <td>16</td>\n",
       "      <td>8</td>\n",
       "      <td>250.43</td>\n",
       "      <td>403</td>\n",
       "      <td>7</td>\n",
       "      <td>0</td>\n",
       "      <td>0</td>\n",
       "      <td>0</td>\n",
       "      <td>0</td>\n",
       "      <td>0</td>\n",
       "      <td>1</td>\n",
       "      <td>1</td>\n",
       "      <td>1</td>\n",
       "      <td>0</td>\n",
       "      <td>0</td>\n",
       "      <td>0</td>\n",
       "      <td>1</td>\n",
       "      <td>0</td>\n",
       "      <td>0</td>\n",
       "    </tr>\n",
       "    <tr>\n",
       "      <th>3</th>\n",
       "      <td>1</td>\n",
       "      <td>45</td>\n",
       "      <td>0</td>\n",
       "      <td>0</td>\n",
       "      <td>0</td>\n",
       "      <td>1</td>\n",
       "      <td>51</td>\n",
       "      <td>0</td>\n",
       "      <td>8</td>\n",
       "      <td>197</td>\n",
       "      <td>157</td>\n",
       "      <td>250</td>\n",
       "      <td>5</td>\n",
       "      <td>0</td>\n",
       "      <td>0</td>\n",
       "      <td>0</td>\n",
       "      <td>0</td>\n",
       "      <td>0</td>\n",
       "      <td>0</td>\n",
       "      <td>1</td>\n",
       "      <td>1</td>\n",
       "      <td>0</td>\n",
       "      <td>0</td>\n",
       "      <td>0</td>\n",
       "      <td>1</td>\n",
       "      <td>0</td>\n",
       "      <td>0</td>\n",
       "    </tr>\n",
       "    <tr>\n",
       "      <th>4</th>\n",
       "      <td>1</td>\n",
       "      <td>55</td>\n",
       "      <td>0</td>\n",
       "      <td>0</td>\n",
       "      <td>1</td>\n",
       "      <td>3</td>\n",
       "      <td>31</td>\n",
       "      <td>6</td>\n",
       "      <td>16</td>\n",
       "      <td>414</td>\n",
       "      <td>411</td>\n",
       "      <td>250</td>\n",
       "      <td>9</td>\n",
       "      <td>0</td>\n",
       "      <td>0</td>\n",
       "      <td>0</td>\n",
       "      <td>0</td>\n",
       "      <td>0</td>\n",
       "      <td>0</td>\n",
       "      <td>0</td>\n",
       "      <td>1</td>\n",
       "      <td>0</td>\n",
       "      <td>0</td>\n",
       "      <td>0</td>\n",
       "      <td>1</td>\n",
       "      <td>0</td>\n",
       "      <td>0</td>\n",
       "    </tr>\n",
       "  </tbody>\n",
       "</table>\n",
       "</div>"
      ],
      "text/plain": [
       "   gender  age  admission_type_id  discharge_disposition_id  \\\n",
       "0       0   15                  0                         0   \n",
       "1       0   25                  0                         0   \n",
       "2       1   35                  0                         0   \n",
       "3       1   45                  0                         0   \n",
       "4       1   55                  0                         0   \n",
       "\n",
       "   admission_source_id  time_in_hospital  num_lab_procedures  num_procedures  \\\n",
       "0                    0                 3                  59               0   \n",
       "1                    0                 2                  11               5   \n",
       "2                    0                 2                  44               1   \n",
       "3                    0                 1                  51               0   \n",
       "4                    1                 3                  31               6   \n",
       "\n",
       "   num_medications diag_1  diag_2 diag_3  number_diagnoses  max_glu_serum  \\\n",
       "0               18    276  250.01    255                 9              0   \n",
       "1               13    648     250    V27                 6              0   \n",
       "2               16      8  250.43    403                 7              0   \n",
       "3                8    197     157    250                 5              0   \n",
       "4               16    414     411    250                 9              0   \n",
       "\n",
       "   A1Cresult  metformin  glipizide  glyburide  insulin  change  diabetesMed  \\\n",
       "0          0          0          0          0        1       1            1   \n",
       "1          0          0          0          0        0       0            1   \n",
       "2          0          0          0          0        1       1            1   \n",
       "3          0          0          0          0        0       1            1   \n",
       "4          0          0          0          0        0       0            1   \n",
       "\n",
       "   readmitted  service_utilization  Asian  Caucasian  Hispanic  Other  \n",
       "0           0                    0      0          1         0      0  \n",
       "1           0                    3      0          0         0      0  \n",
       "2           0                    0      0          1         0      0  \n",
       "3           0                    0      0          1         0      0  \n",
       "4           0                    0      0          1         0      0  "
      ]
     },
     "execution_count": 15,
     "metadata": {},
     "output_type": "execute_result"
    }
   ],
   "source": [
    "df.head()"
   ]
  },
  {
   "cell_type": "code",
   "execution_count": 16,
   "metadata": {},
   "outputs": [
    {
     "name": "stdout",
     "output_type": "stream",
     "text": [
      "<class 'pandas.core.frame.DataFrame'>\n",
      "RangeIndex: 97805 entries, 0 to 97804\n",
      "Data columns (total 27 columns):\n",
      " #   Column                    Non-Null Count  Dtype \n",
      "---  ------                    --------------  ----- \n",
      " 0   gender                    97805 non-null  int64 \n",
      " 1   age                       97805 non-null  int64 \n",
      " 2   admission_type_id         97805 non-null  int64 \n",
      " 3   discharge_disposition_id  97805 non-null  int64 \n",
      " 4   admission_source_id       97805 non-null  int64 \n",
      " 5   time_in_hospital          97805 non-null  int64 \n",
      " 6   num_lab_procedures        97805 non-null  int64 \n",
      " 7   num_procedures            97805 non-null  int64 \n",
      " 8   num_medications           97805 non-null  int64 \n",
      " 9   diag_1                    97805 non-null  object\n",
      " 10  diag_2                    97805 non-null  object\n",
      " 11  diag_3                    97805 non-null  object\n",
      " 12  number_diagnoses          97805 non-null  int64 \n",
      " 13  max_glu_serum             97805 non-null  int64 \n",
      " 14  A1Cresult                 97805 non-null  int64 \n",
      " 15  metformin                 97805 non-null  int64 \n",
      " 16  glipizide                 97805 non-null  int64 \n",
      " 17  glyburide                 97805 non-null  int64 \n",
      " 18  insulin                   97805 non-null  int64 \n",
      " 19  change                    97805 non-null  int64 \n",
      " 20  diabetesMed               97805 non-null  int64 \n",
      " 21  readmitted                97805 non-null  int64 \n",
      " 22  service_utilization       97805 non-null  int64 \n",
      " 23  Asian                     97805 non-null  int64 \n",
      " 24  Caucasian                 97805 non-null  int64 \n",
      " 25  Hispanic                  97805 non-null  int64 \n",
      " 26  Other                     97805 non-null  int64 \n",
      "dtypes: int64(24), object(3)\n",
      "memory usage: 20.1+ MB\n"
     ]
    }
   ],
   "source": [
    "df.info()"
   ]
  },
  {
   "cell_type": "markdown",
   "metadata": {},
   "source": [
    "4. diag_1,diag_2,diag_3"
   ]
  },
  {
   "cell_type": "markdown",
   "metadata": {},
   "source": [
    "- Diagnosis 1 (Nominal) : The primary diagnosis (coded as first three digits of ICD9); 848 distinct values\n",
    "- Diagnosis 2 (Nominal) : Secondary diagnosis (coded as first three digits of ICD9); 923 distinct values\n",
    "- Diagnosis 3 (Nominal) : Additional secondary diagnosis (coded as first three digits of ICD9); 954 distinct values "
   ]
  },
  {
   "cell_type": "markdown",
   "metadata": {},
   "source": [
    "- Diabetes:0\n",
    "- Circulatory:1\n",
    "- Respiratory:2\n",
    "- Digestive:3\n",
    "- Injury:4\n",
    "- Musculoskelet:5\n",
    "- Genitourinory:6\n",
    "- Neoplasms:7\n",
    "- Others:8"
   ]
  },
  {
   "cell_type": "code",
   "execution_count": 17,
   "metadata": {},
   "outputs": [],
   "source": [
    "df.loc[df['diag_1'].str.contains('V',na=False),['diag_1']]=8 #Others\n",
    "df.loc[df['diag_1'].str.contains('E',na=False),['diag_1']]=8\n",
    "df.loc[df['diag_2'].str.contains('V',na=False),['diag_2']]=8\n",
    "df.loc[df['diag_2'].str.contains('E',na=False),['diag_2']]=8\n",
    "df.loc[df['diag_3'].str.contains('V',na=False),['diag_3']]=8\n",
    "df.loc[df['diag_3'].str.contains('E',na=False),['diag_3']]=8"
   ]
  },
  {
   "cell_type": "code",
   "execution_count": 18,
   "metadata": {},
   "outputs": [],
   "source": [
    "df['diag_1']=df['diag_1'].astype('float')\n",
    "df['diag_2']=df['diag_2'].astype('float')\n",
    "df['diag_3']=df['diag_3'].astype('float')"
   ]
  },
  {
   "cell_type": "markdown",
   "metadata": {},
   "source": [
    "- Diagnosis” stands for a primary diagnosis with possible values: \n",
    "- “circulatory” for icd9: 390–459, 785, \n",
    "- “digestive”—icd9: 520–579, 787; \n",
    "- “genitourinary”—icd9:580–629, 788, \n",
    "- “diabetes”—icd9: 250.xx, \n",
    "- “injury” icd9: 800–999, \n",
    "- “musculoskeletal”—icd9: 710–739; \n",
    "- “neoplasms”—icd9: 140–239,\n",
    "- “respiratory” icd9: 460–519,786, \n",
    "- “other” otherwise."
   ]
  },
  {
   "cell_type": "code",
   "execution_count": 19,
   "metadata": {},
   "outputs": [],
   "source": [
    "for j in ['diag_1','diag_2','diag_3']:\n",
    "    for i in range(0,len(df)):\n",
    "        if (np.floor(df.loc[i,j]) == 250):\n",
    "            df.loc[i, j] = 0 #Diabetes\n",
    "        elif (df.loc[i, j] >= 390 and df.loc[i, j] < 460) or (np.floor(df.loc[i,j]) == 785):\n",
    "            df.loc[i, j] = 1 #Circulatory\n",
    "        elif (df.loc[i, j] >= 460 and df.loc[i, j] < 520) or (np.floor(df.loc[i,j]) == 786):\n",
    "            df.loc[i, j] = 2 #Respiratory\n",
    "        elif (df.loc[i, j] >= 520 and df.loc[i, j] < 580) or (np.floor(df.loc[i,j]) == 787):\n",
    "            df.loc[i, j] = 3 #Digestive\n",
    "        elif (df.loc[i, j] >= 800 and df.loc[i, j] < 1000):\n",
    "            df.loc[i, j] = 4 #Injury\n",
    "        elif (df.loc[i, j] >= 710 and df.loc[i, j] < 740):\n",
    "            df.loc[i, j] = 5 #Musculoskelet\n",
    "        elif (df.loc[i, j] >= 580 and df.loc[i, j] < 630) or (np.floor(df.loc[i,j]) == 788):\n",
    "            df.loc[i, j] = 6 #Genitourinory\n",
    "        elif (df.loc[i, j] >= 140 and df.loc[i, j] < 240):\n",
    "            df.loc[i, j] = 7 #Neoplasms\n",
    "        else:\n",
    "            df.loc[i, j] = 8 #Others"
   ]
  },
  {
   "cell_type": "code",
   "execution_count": 20,
   "metadata": {},
   "outputs": [
    {
     "name": "stdout",
     "output_type": "stream",
     "text": [
      "[8. 7. 1. 0. 2. 4. 5. 3. 6.]\n",
      "[0. 7. 1. 2. 8. 4. 5. 6. 3.]\n",
      "[8. 1. 0. 2. 4. 7. 6. 5. 3.]\n"
     ]
    }
   ],
   "source": [
    "for i in ['diag_1','diag_2','diag_3']:\n",
    "    print(df[i].unique())"
   ]
  },
  {
   "cell_type": "code",
   "execution_count": 21,
   "metadata": {},
   "outputs": [],
   "source": [
    "df['diag_1']=df['diag_1'].astype('int')\n",
    "df['diag_2']=df['diag_2'].astype('int')\n",
    "df['diag_3']=df['diag_3'].astype('int')"
   ]
  },
  {
   "cell_type": "code",
   "execution_count": 22,
   "metadata": {},
   "outputs": [
    {
     "data": {
      "text/html": [
       "<div>\n",
       "<style scoped>\n",
       "    .dataframe tbody tr th:only-of-type {\n",
       "        vertical-align: middle;\n",
       "    }\n",
       "\n",
       "    .dataframe tbody tr th {\n",
       "        vertical-align: top;\n",
       "    }\n",
       "\n",
       "    .dataframe thead th {\n",
       "        text-align: right;\n",
       "    }\n",
       "</style>\n",
       "<table border=\"1\" class=\"dataframe\">\n",
       "  <thead>\n",
       "    <tr style=\"text-align: right;\">\n",
       "      <th></th>\n",
       "      <th>gender</th>\n",
       "      <th>age</th>\n",
       "      <th>admission_type_id</th>\n",
       "      <th>discharge_disposition_id</th>\n",
       "      <th>admission_source_id</th>\n",
       "      <th>time_in_hospital</th>\n",
       "      <th>num_lab_procedures</th>\n",
       "      <th>num_procedures</th>\n",
       "      <th>num_medications</th>\n",
       "      <th>diag_1</th>\n",
       "      <th>diag_2</th>\n",
       "      <th>diag_3</th>\n",
       "      <th>number_diagnoses</th>\n",
       "      <th>max_glu_serum</th>\n",
       "      <th>A1Cresult</th>\n",
       "      <th>metformin</th>\n",
       "      <th>glipizide</th>\n",
       "      <th>glyburide</th>\n",
       "      <th>insulin</th>\n",
       "      <th>change</th>\n",
       "      <th>diabetesMed</th>\n",
       "      <th>readmitted</th>\n",
       "      <th>service_utilization</th>\n",
       "      <th>Asian</th>\n",
       "      <th>Caucasian</th>\n",
       "      <th>Hispanic</th>\n",
       "      <th>Other</th>\n",
       "    </tr>\n",
       "  </thead>\n",
       "  <tbody>\n",
       "    <tr>\n",
       "      <th>0</th>\n",
       "      <td>0</td>\n",
       "      <td>15</td>\n",
       "      <td>0</td>\n",
       "      <td>0</td>\n",
       "      <td>0</td>\n",
       "      <td>3</td>\n",
       "      <td>59</td>\n",
       "      <td>0</td>\n",
       "      <td>18</td>\n",
       "      <td>8</td>\n",
       "      <td>0</td>\n",
       "      <td>8</td>\n",
       "      <td>9</td>\n",
       "      <td>0</td>\n",
       "      <td>0</td>\n",
       "      <td>0</td>\n",
       "      <td>0</td>\n",
       "      <td>0</td>\n",
       "      <td>1</td>\n",
       "      <td>1</td>\n",
       "      <td>1</td>\n",
       "      <td>0</td>\n",
       "      <td>0</td>\n",
       "      <td>0</td>\n",
       "      <td>1</td>\n",
       "      <td>0</td>\n",
       "      <td>0</td>\n",
       "    </tr>\n",
       "    <tr>\n",
       "      <th>1</th>\n",
       "      <td>0</td>\n",
       "      <td>25</td>\n",
       "      <td>0</td>\n",
       "      <td>0</td>\n",
       "      <td>0</td>\n",
       "      <td>2</td>\n",
       "      <td>11</td>\n",
       "      <td>5</td>\n",
       "      <td>13</td>\n",
       "      <td>8</td>\n",
       "      <td>0</td>\n",
       "      <td>8</td>\n",
       "      <td>6</td>\n",
       "      <td>0</td>\n",
       "      <td>0</td>\n",
       "      <td>0</td>\n",
       "      <td>0</td>\n",
       "      <td>0</td>\n",
       "      <td>0</td>\n",
       "      <td>0</td>\n",
       "      <td>1</td>\n",
       "      <td>0</td>\n",
       "      <td>3</td>\n",
       "      <td>0</td>\n",
       "      <td>0</td>\n",
       "      <td>0</td>\n",
       "      <td>0</td>\n",
       "    </tr>\n",
       "    <tr>\n",
       "      <th>2</th>\n",
       "      <td>1</td>\n",
       "      <td>35</td>\n",
       "      <td>0</td>\n",
       "      <td>0</td>\n",
       "      <td>0</td>\n",
       "      <td>2</td>\n",
       "      <td>44</td>\n",
       "      <td>1</td>\n",
       "      <td>16</td>\n",
       "      <td>8</td>\n",
       "      <td>0</td>\n",
       "      <td>1</td>\n",
       "      <td>7</td>\n",
       "      <td>0</td>\n",
       "      <td>0</td>\n",
       "      <td>0</td>\n",
       "      <td>0</td>\n",
       "      <td>0</td>\n",
       "      <td>1</td>\n",
       "      <td>1</td>\n",
       "      <td>1</td>\n",
       "      <td>0</td>\n",
       "      <td>0</td>\n",
       "      <td>0</td>\n",
       "      <td>1</td>\n",
       "      <td>0</td>\n",
       "      <td>0</td>\n",
       "    </tr>\n",
       "    <tr>\n",
       "      <th>3</th>\n",
       "      <td>1</td>\n",
       "      <td>45</td>\n",
       "      <td>0</td>\n",
       "      <td>0</td>\n",
       "      <td>0</td>\n",
       "      <td>1</td>\n",
       "      <td>51</td>\n",
       "      <td>0</td>\n",
       "      <td>8</td>\n",
       "      <td>7</td>\n",
       "      <td>7</td>\n",
       "      <td>0</td>\n",
       "      <td>5</td>\n",
       "      <td>0</td>\n",
       "      <td>0</td>\n",
       "      <td>0</td>\n",
       "      <td>0</td>\n",
       "      <td>0</td>\n",
       "      <td>0</td>\n",
       "      <td>1</td>\n",
       "      <td>1</td>\n",
       "      <td>0</td>\n",
       "      <td>0</td>\n",
       "      <td>0</td>\n",
       "      <td>1</td>\n",
       "      <td>0</td>\n",
       "      <td>0</td>\n",
       "    </tr>\n",
       "    <tr>\n",
       "      <th>4</th>\n",
       "      <td>1</td>\n",
       "      <td>55</td>\n",
       "      <td>0</td>\n",
       "      <td>0</td>\n",
       "      <td>1</td>\n",
       "      <td>3</td>\n",
       "      <td>31</td>\n",
       "      <td>6</td>\n",
       "      <td>16</td>\n",
       "      <td>1</td>\n",
       "      <td>1</td>\n",
       "      <td>0</td>\n",
       "      <td>9</td>\n",
       "      <td>0</td>\n",
       "      <td>0</td>\n",
       "      <td>0</td>\n",
       "      <td>0</td>\n",
       "      <td>0</td>\n",
       "      <td>0</td>\n",
       "      <td>0</td>\n",
       "      <td>1</td>\n",
       "      <td>0</td>\n",
       "      <td>0</td>\n",
       "      <td>0</td>\n",
       "      <td>1</td>\n",
       "      <td>0</td>\n",
       "      <td>0</td>\n",
       "    </tr>\n",
       "  </tbody>\n",
       "</table>\n",
       "</div>"
      ],
      "text/plain": [
       "   gender  age  admission_type_id  discharge_disposition_id  \\\n",
       "0       0   15                  0                         0   \n",
       "1       0   25                  0                         0   \n",
       "2       1   35                  0                         0   \n",
       "3       1   45                  0                         0   \n",
       "4       1   55                  0                         0   \n",
       "\n",
       "   admission_source_id  time_in_hospital  num_lab_procedures  num_procedures  \\\n",
       "0                    0                 3                  59               0   \n",
       "1                    0                 2                  11               5   \n",
       "2                    0                 2                  44               1   \n",
       "3                    0                 1                  51               0   \n",
       "4                    1                 3                  31               6   \n",
       "\n",
       "   num_medications  diag_1  diag_2  diag_3  number_diagnoses  max_glu_serum  \\\n",
       "0               18       8       0       8                 9              0   \n",
       "1               13       8       0       8                 6              0   \n",
       "2               16       8       0       1                 7              0   \n",
       "3                8       7       7       0                 5              0   \n",
       "4               16       1       1       0                 9              0   \n",
       "\n",
       "   A1Cresult  metformin  glipizide  glyburide  insulin  change  diabetesMed  \\\n",
       "0          0          0          0          0        1       1            1   \n",
       "1          0          0          0          0        0       0            1   \n",
       "2          0          0          0          0        1       1            1   \n",
       "3          0          0          0          0        0       1            1   \n",
       "4          0          0          0          0        0       0            1   \n",
       "\n",
       "   readmitted  service_utilization  Asian  Caucasian  Hispanic  Other  \n",
       "0           0                    0      0          1         0      0  \n",
       "1           0                    3      0          0         0      0  \n",
       "2           0                    0      0          1         0      0  \n",
       "3           0                    0      0          1         0      0  \n",
       "4           0                    0      0          1         0      0  "
      ]
     },
     "execution_count": 22,
     "metadata": {},
     "output_type": "execute_result"
    }
   ],
   "source": [
    "df.head()"
   ]
  },
  {
   "cell_type": "markdown",
   "metadata": {},
   "source": [
    "# Export CSV - cleaned dataset part 2"
   ]
  },
  {
   "cell_type": "code",
   "execution_count": 23,
   "metadata": {},
   "outputs": [],
   "source": [
    "#df.to_csv('Diabetes_preprocessing_2.csv', index = False)"
   ]
  },
  {
   "cell_type": "markdown",
   "metadata": {},
   "source": [
    "# END"
   ]
  }
 ],
 "metadata": {
  "kernelspec": {
   "display_name": "Python 3",
   "language": "python",
   "name": "python3"
  },
  "language_info": {
   "codemirror_mode": {
    "name": "ipython",
    "version": 3
   },
   "file_extension": ".py",
   "mimetype": "text/x-python",
   "name": "python",
   "nbconvert_exporter": "python",
   "pygments_lexer": "ipython3",
   "version": "3.7.6"
  }
 },
 "nbformat": 4,
 "nbformat_minor": 4
}
